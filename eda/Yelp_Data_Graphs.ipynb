{
 "cells": [
  {
   "cell_type": "code",
   "execution_count": 1,
   "metadata": {
    "ExecuteTime": {
     "end_time": "2018-12-03T03:49:09.952442Z",
     "start_time": "2018-12-03T03:47:47.908439Z"
    }
   },
   "outputs": [],
   "source": [
    "reset -fs"
   ]
  },
  {
   "cell_type": "code",
   "execution_count": 5,
   "metadata": {
    "ExecuteTime": {
     "end_time": "2018-12-03T03:49:09.963377Z",
     "start_time": "2018-12-03T03:49:09.955397Z"
    }
   },
   "outputs": [],
   "source": [
    "import sys\n",
    "import json\n",
    "import pandas as pd\n",
    "import numpy as np\n",
    "import matplotlib.pyplot as plt\n",
    "import seaborn as sns\n",
    "import re\n",
    "import string\n",
    "from sklearn.feature_extraction.text import ENGLISH_STOP_WORDS\n",
    "from nltk.stem import WordNetLemmatizer\n",
    "from textblob import TextBlob as tb\n",
    "from autocorrect import spell"
   ]
  },
  {
   "cell_type": "code",
   "execution_count": 8,
   "metadata": {
    "ExecuteTime": {
     "end_time": "2018-12-03T03:53:21.500568Z",
     "start_time": "2018-12-03T03:49:09.966369Z"
    }
   },
   "outputs": [],
   "source": [
    "review_fn = \"/Users/7of9/Documents/Machine_Learning/yelp-dataset-data/yelp_academic_dataset_review.json\"\n",
    "with open(review_fn, 'r', encoding='UTF-8') as f:\n",
    "    rev_data = f.readlines()\n",
    "    rev_data = list(map(json.loads, rev_data))\n",
    "    \n",
    "rev_df = pd.DataFrame(rev_data)"
   ]
  },
  {
   "cell_type": "code",
   "execution_count": 9,
   "metadata": {
    "ExecuteTime": {
     "end_time": "2018-12-03T03:53:35.134892Z",
     "start_time": "2018-12-03T03:53:21.534178Z"
    }
   },
   "outputs": [],
   "source": [
    "business_fn = '/Users/7of9/Documents/Machine_Learning/yelp-dataset-data/yelp_academic_dataset_business.json'\n",
    "\n",
    "with open(business_fn, 'r', encoding='UTF-8') as f:\n",
    "    bus_data = f.readlines()\n",
    "    bus_data = list(map(json.loads, bus_data))\n",
    "\n",
    "bus_df = pd.DataFrame(bus_data)[\n",
    "    ['business_id', 'categories', 'city', 'name', 'review_count', 'stars']]"
   ]
  },
  {
   "cell_type": "code",
   "execution_count": 10,
   "metadata": {
    "ExecuteTime": {
     "end_time": "2018-12-03T03:54:09.129041Z",
     "start_time": "2018-12-03T03:53:35.134892Z"
    }
   },
   "outputs": [],
   "source": [
    "bus_df = bus_df[bus_df.categories.str.contains('Restaurant|Food', na=False)]\n",
    "\n",
    "rest_df = rev_df.merge(bus_df, how='inner', left_on='business_id',\n",
    "                       right_on='business_id', suffixes=('_rev', '_rest'))"
   ]
  },
  {
   "cell_type": "code",
   "execution_count": 18,
   "metadata": {},
   "outputs": [
    {
     "data": {
      "text/plain": [
       "user_id\n",
       "---1lKK3aKOuomHnwAkAow    70\n",
       "---94vtJ_5o_nikEs6hUjg     1\n",
       "---PLwSf5gKdIoVnyRHgBA     1\n",
       "---cu1hq55BP9DWVXXKHZg     2\n",
       "---udAKDsn0yQXmzbWQNSw     2\n",
       "Name: review_id, dtype: int64"
      ]
     },
     "execution_count": 18,
     "metadata": {},
     "output_type": "execute_result"
    }
   ],
   "source": [
    "# number of users by review count\n",
    "usr_rev_count = rest_df.groupby('user_id')['review_id'].count()\n",
    "usr_rev_count.head()"
   ]
  },
  {
   "cell_type": "code",
   "execution_count": 21,
   "metadata": {},
   "outputs": [
    {
     "name": "stdout",
     "output_type": "stream",
     "text": [
      "count    1.073841e+06\n",
      "mean     3.742384e+00\n",
      "std      1.208344e+01\n",
      "min      1.000000e+00\n",
      "25%      1.000000e+00\n",
      "50%      1.000000e+00\n",
      "75%      3.000000e+00\n",
      "max      3.057000e+03\n",
      "Name: review_id, dtype: float64\n"
     ]
    }
   ],
   "source": [
    "print(usr_rev_count.describe())"
   ]
  },
  {
   "cell_type": "code",
   "execution_count": 66,
   "metadata": {
    "ExecuteTime": {
     "end_time": "2018-12-03T03:54:20.191809Z",
     "start_time": "2018-12-03T03:54:09.131000Z"
    }
   },
   "outputs": [
    {
     "data": {
      "text/plain": [
       "Text(0.5, 1.0, 'Above 100 Reviews')"
      ]
     },
     "execution_count": 66,
     "metadata": {},
     "output_type": "execute_result"
    },
    {
     "data": {
      "image/png": "[encoded data removed]",
      "text/plain": [
       "<Figure size 792x576 with 4 Axes>"
      ]
     },
     "metadata": {
      "needs_background": "light"
     },
     "output_type": "display_data"
    }
   ],
   "source": [
    "# number of users by review count\n",
    "fig, axes = plt.subplots(nrows=2, ncols=2)\n",
    "fig.set_size_inches(11,8)\n",
    "# '#56B4E9', '#009E73', '#F0E442', '#D55E00']\n",
    "usr_rev_count[usr_rev_count < 3].hist(ax=axes[0,0],xlabelsize=2, color='#56B4E9', bins=30).set_title(\"Less than 3 Reviews\")\n",
    "usr_rev_count[(usr_rev_count > 3) & (usr_rev_count < 35)].hist(ax=axes[0,1], color ='#009E73', bins=30).set_title(\"Between 3 and 35 Reviews\")\n",
    "usr_rev_count[(usr_rev_count > 35) & (usr_rev_count < 100)].hist(ax=axes[1,0], color='#F0E442', bins=30).set_title(\"Between 35 and 100 Reviews\")\n",
    "usr_rev_count[(usr_rev_count > 100)].hist(ax=axes[1,1], color='#D55E00', bins=30).set_title(\"Above 100 Reviews\")"
   ]
  },
  {
   "cell_type": "code",
   "execution_count": 23,
   "metadata": {
    "ExecuteTime": {
     "end_time": "2018-12-03T03:54:26.983530Z",
     "start_time": "2018-12-03T03:54:20.194802Z"
    }
   },
   "outputs": [],
   "source": [
    "rest_df['usr_rev_count'] = rest_df.groupby('user_id')['review_id'].transform('count')\n",
    "rest_df_smpl = rest_df[(rest_df.usr_rev_count > 10) & (rest_df.usr_rev_count < 20)]"
   ]
  },
  {
   "cell_type": "code",
   "execution_count": 24,
   "metadata": {
    "ExecuteTime": {
     "end_time": "2018-12-03T03:54:28.165214Z",
     "start_time": "2018-12-03T03:54:27.009823Z"
    }
   },
   "outputs": [
    {
     "name": "stderr",
     "output_type": "stream",
     "text": [
      "/Users/7of9/anaconda3/envs/ml/lib/python3.6/site-packages/ipykernel_launcher.py:1: SettingWithCopyWarning: \n",
      "A value is trying to be set on a copy of a slice from a DataFrame.\n",
      "Try using .loc[row_indexer,col_indexer] = value instead\n",
      "\n",
      "See the caveats in the documentation: http://pandas.pydata.org/pandas-docs/stable/indexing.html#indexing-view-versus-copy\n",
      "  \"\"\"Entry point for launching an IPython kernel.\n",
      "/Users/7of9/anaconda3/envs/ml/lib/python3.6/site-packages/ipykernel_launcher.py:2: SettingWithCopyWarning: \n",
      "A value is trying to be set on a copy of a slice from a DataFrame.\n",
      "Try using .loc[row_indexer,col_indexer] = value instead\n",
      "\n",
      "See the caveats in the documentation: http://pandas.pydata.org/pandas-docs/stable/indexing.html#indexing-view-versus-copy\n",
      "  \n"
     ]
    }
   ],
   "source": [
    "rest_df_smpl['stars_delta'] = rest_df_smpl.stars_rev - rest_df_smpl.stars_rest\n",
    "rest_df_smpl['avg_star_delta'] = rest_df_smpl.groupby(['user_id'])['stars_delta'].transform('mean')"
   ]
  },
  {
   "cell_type": "code",
   "execution_count": 53,
   "metadata": {},
   "outputs": [
    {
     "data": {
      "text/plain": [
       "Text(0, 0.5, 'Number of Users')"
      ]
     },
     "execution_count": 53,
     "metadata": {},
     "output_type": "execute_result"
    },
    {
     "data": {
      "image/png": "[encoded data removed]",
      "text/plain": [
       "<Figure size 720x720 with 1 Axes>"
      ]
     },
     "metadata": {
      "needs_background": "light"
     },
     "output_type": "display_data"
    }
   ],
   "source": [
    "from matplotlib import colors \n",
    "usr_deltas = rest_df_smpl[['user_id','avg_star_delta']].drop_duplicates()\n",
    "x2 = usr_deltas['avg_star_delta']\n",
    "\n",
    "fig, ax = plt.subplots(figsize=(10, 10))\n",
    "N, bins, patches = ax.hist(x2, bins=50)\n",
    "fracs = N / N.max()\n",
    "norm = colors.Normalize(fracs.min(), fracs.max())\n",
    "for thisfrac, thispatch in zip(fracs, patches):\n",
    "    color = plt.cm.plasma(norm(thisfrac)) #viridis\n",
    "    thispatch.set_facecolor(color)\n",
    "ax.set_title('Distribution of Average Star Delta')\n",
    "ax.set_xlabel('Average Star Delta')\n",
    "ax.set_ylabel('Number of Users')"
   ]
  },
  {
   "cell_type": "code",
   "execution_count": 54,
   "metadata": {
    "ExecuteTime": {
     "end_time": "2018-12-03T03:54:28.896240Z",
     "start_time": "2018-12-03T03:54:28.627836Z"
    }
   },
   "outputs": [
    {
     "name": "stdout",
     "output_type": "stream",
     "text": [
      "73403\n",
      "319339\n",
      "81423\n"
     ]
    }
   ],
   "source": [
    "# number of easy, med, hard reviews\n",
    "print(len(rest_df_smpl[rest_df_smpl.avg_star_delta < -0.5]))\n",
    "print(len(rest_df_smpl[(rest_df_smpl.avg_star_delta > -0.5) & (rest_df_smpl.avg_star_delta < 0.5)]))\n",
    "print(len(rest_df_smpl[rest_df_smpl.avg_star_delta > 0.5]))"
   ]
  },
  {
   "cell_type": "code",
   "execution_count": 55,
   "metadata": {
    "ExecuteTime": {
     "end_time": "2018-12-03T03:54:33.676325Z",
     "start_time": "2018-12-03T03:54:28.898115Z"
    }
   },
   "outputs": [],
   "source": [
    "df_by_usr = rest_df_smpl.groupby(['user_id', 'avg_star_delta'])['text'].sum().reset_index(name='text_agg')\n",
    "df_by_usr['reviewer_label'] = pd.cut(df_by_usr['avg_star_delta'], bins=[-5,-0.5,.5,5], include_lowest=False, labels=['hard', 'med', 'easy'])"
   ]
  },
  {
   "cell_type": "code",
   "execution_count": 56,
   "metadata": {
    "ExecuteTime": {
     "end_time": "2018-12-03T03:54:33.688261Z",
     "start_time": "2018-12-03T03:54:33.678314Z"
    }
   },
   "outputs": [
    {
     "name": "stdout",
     "output_type": "stream",
     "text": [
      "5910\n",
      "23403\n",
      "5738\n",
      "0.6676842315483154\n"
     ]
    }
   ],
   "source": [
    "# number of easy, med, hard reviewers\n",
    "hard = sum(df_by_usr['reviewer_label'] == 'easy')\n",
    "med = sum(df_by_usr['reviewer_label'] == 'med')\n",
    "easy = sum(df_by_usr['reviewer_label'] == 'hard')\n",
    "print(hard)\n",
    "print(med)\n",
    "print(easy)\n",
    "print(med/len(df_by_usr))"
   ]
  },
  {
   "cell_type": "code",
   "execution_count": 57,
   "metadata": {
    "ExecuteTime": {
     "end_time": "2018-12-03T03:54:34.403380Z",
     "start_time": "2018-12-03T03:54:33.691250Z"
    }
   },
   "outputs": [
    {
     "name": "stderr",
     "output_type": "stream",
     "text": [
      "/Users/7of9/anaconda3/envs/ml/lib/python3.6/site-packages/ipykernel_launcher.py:2: SettingWithCopyWarning: \n",
      "A value is trying to be set on a copy of a slice from a DataFrame.\n",
      "Try using .loc[row_indexer,col_indexer] = value instead\n",
      "\n",
      "See the caveats in the documentation: http://pandas.pydata.org/pandas-docs/stable/indexing.html#indexing-view-versus-copy\n",
      "  \n"
     ]
    }
   ],
   "source": [
    "# distribution of review length\n",
    "rest_df_smpl['rev_len'] = rest_df_smpl.text.apply(lambda x: len(x))"
   ]
  },
  {
   "cell_type": "code",
   "execution_count": 64,
   "metadata": {},
   "outputs": [
    {
     "data": {
      "text/plain": [
       "Text(0, 0.5, 'Number of Reviews')"
      ]
     },
     "execution_count": 64,
     "metadata": {},
     "output_type": "execute_result"
    },
    {
     "data": {
      "image/png": "[encoded data removed]",
      "text/plain": [
       "<Figure size 720x720 with 1 Axes>"
      ]
     },
     "metadata": {
      "needs_background": "light"
     },
     "output_type": "display_data"
    }
   ],
   "source": [
    "from matplotlib import colors \n",
    "x3 = rest_df_smpl['rev_len']\n",
    "\n",
    "fig, ax = plt.subplots(figsize=(10, 10))\n",
    "N, bins, patches = ax.hist(x3, bins=50)\n",
    "fracs = N / N.max()\n",
    "norm = colors.Normalize(fracs.min(), fracs.max())\n",
    "for thisfrac, thispatch in zip(fracs, patches):\n",
    "    color = plt.cm.RdYlBu(norm(thisfrac)) \n",
    "    thispatch.set_facecolor(color)\n",
    "ax.set_title('Distribution of Review Lengths')\n",
    "ax.set_xlabel('Character Length')\n",
    "ax.set_ylabel('Number of Reviews')"
   ]
  }
 ],
 "metadata": {
  "kernelspec": {
   "display_name": "Python 3",
   "language": "python",
   "name": "python3"
  },
  "language_info": {
   "codemirror_mode": {
    "name": "ipython",
    "version": 3
   },
   "file_extension": ".py",
   "mimetype": "text/x-python",
   "name": "python",
   "nbconvert_exporter": "python",
   "pygments_lexer": "ipython3",
   "version": "3.6.8"
  }
 },
 "nbformat": 4,
 "nbformat_minor": 2
}
