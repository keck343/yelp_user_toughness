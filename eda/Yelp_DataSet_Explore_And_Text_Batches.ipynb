{
 "cells": [
  {
   "cell_type": "code",
   "execution_count": 1,
   "metadata": {},
   "outputs": [],
   "source": [
    "import sys\n",
    "import json\n",
    "import pandas as pd\n",
    "import numpy as np\n",
    "import os"
   ]
  },
  {
   "cell_type": "code",
   "execution_count": 2,
   "metadata": {},
   "outputs": [
    {
     "name": "stderr",
     "output_type": "stream",
     "text": [
      "/Users/7of9/anaconda3/lib/python3.6/site-packages/IPython/core/interactiveshell.py:2785: DtypeWarning: Columns (0,2,4) have mixed types. Specify dtype option on import or set low_memory=False.\n",
      "  interactivity=interactivity, compiler=compiler, result=result)\n"
     ]
    }
   ],
   "source": [
    "reviews = pd.read_csv('yelp_business_and_reviews.csv', sep=\"\\t\")"
   ]
  },
  {
   "cell_type": "code",
   "execution_count": 8,
   "metadata": {},
   "outputs": [
    {
     "data": {
      "text/html": [
       "<div>\n",
       "<style scoped>\n",
       "    .dataframe tbody tr th:only-of-type {\n",
       "        vertical-align: middle;\n",
       "    }\n",
       "\n",
       "    .dataframe tbody tr th {\n",
       "        vertical-align: top;\n",
       "    }\n",
       "\n",
       "    .dataframe thead th {\n",
       "        text-align: right;\n",
       "    }\n",
       "</style>\n",
       "<table border=\"1\" class=\"dataframe\">\n",
       "  <thead>\n",
       "    <tr style=\"text-align: right;\">\n",
       "      <th></th>\n",
       "      <th>Unnamed: 0</th>\n",
       "      <th>business_id</th>\n",
       "      <th>cool</th>\n",
       "      <th>date</th>\n",
       "      <th>funny</th>\n",
       "      <th>review_id</th>\n",
       "      <th>stars_x</th>\n",
       "      <th>text</th>\n",
       "      <th>useful</th>\n",
       "      <th>user_id</th>\n",
       "      <th>categories</th>\n",
       "      <th>city</th>\n",
       "      <th>name</th>\n",
       "      <th>review_count</th>\n",
       "      <th>stars_y</th>\n",
       "    </tr>\n",
       "  </thead>\n",
       "  <tbody>\n",
       "    <tr>\n",
       "      <th>4018744</th>\n",
       "      <td>4018722</td>\n",
       "      <td>l8VmpBM-uuAn3kEcjzIv2w</td>\n",
       "      <td>0</td>\n",
       "      <td>2012-02-09</td>\n",
       "      <td>0</td>\n",
       "      <td>9pIWL-BMaXD8u4t8P-wGug</td>\n",
       "      <td>3.0</td>\n",
       "      <td>I like this Opa because the owner is a great g...</td>\n",
       "      <td>0.0</td>\n",
       "      <td>76V_yP6iFp9xYNnyWIzm8w</td>\n",
       "      <td>Restaurants, Greek, Fast Food, Mediterranean</td>\n",
       "      <td>Calgary</td>\n",
       "      <td>OPA! of Greece North Hill Centre</td>\n",
       "      <td>3.0</td>\n",
       "      <td>4.0</td>\n",
       "    </tr>\n",
       "    <tr>\n",
       "      <th>4018745</th>\n",
       "      <td>4018723</td>\n",
       "      <td>l8VmpBM-uuAn3kEcjzIv2w</td>\n",
       "      <td>0</td>\n",
       "      <td>2012-10-11</td>\n",
       "      <td>0</td>\n",
       "      <td>B_-VOdEwd2SZzsDEueiSxA</td>\n",
       "      <td>5.0</td>\n",
       "      <td>Aki is the owner, he is Greek. this is the BES...</td>\n",
       "      <td>0.0</td>\n",
       "      <td>OpLYM_y6ReDz6dEv8_ra4A</td>\n",
       "      <td>Restaurants, Greek, Fast Food, Mediterranean</td>\n",
       "      <td>Calgary</td>\n",
       "      <td>OPA! of Greece North Hill Centre</td>\n",
       "      <td>3.0</td>\n",
       "      <td>4.0</td>\n",
       "    </tr>\n",
       "    <tr>\n",
       "      <th>4018746</th>\n",
       "      <td>4018724</td>\n",
       "      <td>l8VmpBM-uuAn3kEcjzIv2w</td>\n",
       "      <td>0</td>\n",
       "      <td>2015-06-15</td>\n",
       "      <td>0</td>\n",
       "      <td>blR6ripkVGxMRN_KKfxr7g</td>\n",
       "      <td>4.0</td>\n",
       "      <td>This location is clean and the staff are fast ...</td>\n",
       "      <td>0.0</td>\n",
       "      <td>o2_QE7ARw7qf_6gQYBqgog</td>\n",
       "      <td>Restaurants, Greek, Fast Food, Mediterranean</td>\n",
       "      <td>Calgary</td>\n",
       "      <td>OPA! of Greece North Hill Centre</td>\n",
       "      <td>3.0</td>\n",
       "      <td>4.0</td>\n",
       "    </tr>\n",
       "  </tbody>\n",
       "</table>\n",
       "</div>"
      ],
      "text/plain": [
       "        Unnamed: 0             business_id cool        date funny  \\\n",
       "4018744    4018722  l8VmpBM-uuAn3kEcjzIv2w    0  2012-02-09     0   \n",
       "4018745    4018723  l8VmpBM-uuAn3kEcjzIv2w    0  2012-10-11     0   \n",
       "4018746    4018724  l8VmpBM-uuAn3kEcjzIv2w    0  2015-06-15     0   \n",
       "\n",
       "                      review_id  stars_x  \\\n",
       "4018744  9pIWL-BMaXD8u4t8P-wGug      3.0   \n",
       "4018745  B_-VOdEwd2SZzsDEueiSxA      5.0   \n",
       "4018746  blR6ripkVGxMRN_KKfxr7g      4.0   \n",
       "\n",
       "                                                      text  useful  \\\n",
       "4018744  I like this Opa because the owner is a great g...     0.0   \n",
       "4018745  Aki is the owner, he is Greek. this is the BES...     0.0   \n",
       "4018746  This location is clean and the staff are fast ...     0.0   \n",
       "\n",
       "                        user_id                                    categories  \\\n",
       "4018744  76V_yP6iFp9xYNnyWIzm8w  Restaurants, Greek, Fast Food, Mediterranean   \n",
       "4018745  OpLYM_y6ReDz6dEv8_ra4A  Restaurants, Greek, Fast Food, Mediterranean   \n",
       "4018746  o2_QE7ARw7qf_6gQYBqgog  Restaurants, Greek, Fast Food, Mediterranean   \n",
       "\n",
       "            city                              name  review_count  stars_y  \n",
       "4018744  Calgary  OPA! of Greece North Hill Centre           3.0      4.0  \n",
       "4018745  Calgary  OPA! of Greece North Hill Centre           3.0      4.0  \n",
       "4018746  Calgary  OPA! of Greece North Hill Centre           3.0      4.0  "
      ]
     },
     "execution_count": 8,
     "metadata": {},
     "output_type": "execute_result"
    }
   ],
   "source": [
    "reviews.tail(3)"
   ]
  },
  {
   "cell_type": "code",
   "execution_count": 13,
   "metadata": {},
   "outputs": [],
   "source": [
    "import matplotlib.pyplot as plt\n",
    "import numpy as np\n",
    "from matplotlib import colors\n",
    "from matplotlib.ticker import PercentFormatter"
   ]
  },
  {
   "cell_type": "code",
   "execution_count": null,
   "metadata": {},
   "outputs": [],
   "source": [
    "# https://github.com/parrt/msds501/blob/master/notes/dataframes.ipynb\n",
    "# https://www.yelp.com/dataset/documentation/main"
   ]
  },
  {
   "cell_type": "code",
   "execution_count": 26,
   "metadata": {},
   "outputs": [
    {
     "name": "stdout",
     "output_type": "stream",
     "text": [
      "<class 'pandas.core.frame.DataFrame'>\n",
      "RangeIndex: 4018747 entries, 0 to 4018746\n",
      "Data columns (total 15 columns):\n",
      "Unnamed: 0      object\n",
      "business_id     object\n",
      "cool            object\n",
      "date            object\n",
      "funny           object\n",
      "review_id       object\n",
      "stars_x         float64\n",
      "text            object\n",
      "useful          float64\n",
      "user_id         object\n",
      "categories      object\n",
      "city            object\n",
      "name            object\n",
      "review_count    float64\n",
      "stars_y         float64\n",
      "dtypes: float64(4), object(11)\n",
      "memory usage: 459.9+ MB\n"
     ]
    }
   ],
   "source": [
    "reviews.info()"
   ]
  },
  {
   "cell_type": "code",
   "execution_count": 27,
   "metadata": {},
   "outputs": [
    {
     "data": {
      "text/html": [
       "<div>\n",
       "<style scoped>\n",
       "    .dataframe tbody tr th:only-of-type {\n",
       "        vertical-align: middle;\n",
       "    }\n",
       "\n",
       "    .dataframe tbody tr th {\n",
       "        vertical-align: top;\n",
       "    }\n",
       "\n",
       "    .dataframe thead th {\n",
       "        text-align: right;\n",
       "    }\n",
       "</style>\n",
       "<table border=\"1\" class=\"dataframe\">\n",
       "  <thead>\n",
       "    <tr style=\"text-align: right;\">\n",
       "      <th></th>\n",
       "      <th>stars_x</th>\n",
       "      <th>useful</th>\n",
       "      <th>review_count</th>\n",
       "      <th>stars_y</th>\n",
       "    </tr>\n",
       "  </thead>\n",
       "  <tbody>\n",
       "    <tr>\n",
       "      <th>count</th>\n",
       "      <td>4.018735e+06</td>\n",
       "      <td>4.018715e+06</td>\n",
       "      <td>4.018715e+06</td>\n",
       "      <td>4.018715e+06</td>\n",
       "    </tr>\n",
       "    <tr>\n",
       "      <th>mean</th>\n",
       "      <td>3.726081e+00</td>\n",
       "      <td>1.146094e+00</td>\n",
       "      <td>4.454157e+02</td>\n",
       "      <td>3.727154e+00</td>\n",
       "    </tr>\n",
       "    <tr>\n",
       "      <th>std</th>\n",
       "      <td>1.688238e+00</td>\n",
       "      <td>3.477432e+00</td>\n",
       "      <td>8.487723e+02</td>\n",
       "      <td>6.193240e-01</td>\n",
       "    </tr>\n",
       "    <tr>\n",
       "      <th>min</th>\n",
       "      <td>0.000000e+00</td>\n",
       "      <td>-1.000000e+00</td>\n",
       "      <td>3.000000e+00</td>\n",
       "      <td>1.000000e+00</td>\n",
       "    </tr>\n",
       "    <tr>\n",
       "      <th>25%</th>\n",
       "      <td>3.000000e+00</td>\n",
       "      <td>0.000000e+00</td>\n",
       "      <td>6.500000e+01</td>\n",
       "      <td>3.500000e+00</td>\n",
       "    </tr>\n",
       "    <tr>\n",
       "      <th>50%</th>\n",
       "      <td>4.000000e+00</td>\n",
       "      <td>0.000000e+00</td>\n",
       "      <td>1.800000e+02</td>\n",
       "      <td>4.000000e+00</td>\n",
       "    </tr>\n",
       "    <tr>\n",
       "      <th>75%</th>\n",
       "      <td>5.000000e+00</td>\n",
       "      <td>1.000000e+00</td>\n",
       "      <td>4.470000e+02</td>\n",
       "      <td>4.000000e+00</td>\n",
       "    </tr>\n",
       "    <tr>\n",
       "      <th>max</th>\n",
       "      <td>1.114000e+03</td>\n",
       "      <td>1.234000e+03</td>\n",
       "      <td>7.968000e+03</td>\n",
       "      <td>5.000000e+00</td>\n",
       "    </tr>\n",
       "  </tbody>\n",
       "</table>\n",
       "</div>"
      ],
      "text/plain": [
       "            stars_x        useful  review_count       stars_y\n",
       "count  4.018735e+06  4.018715e+06  4.018715e+06  4.018715e+06\n",
       "mean   3.726081e+00  1.146094e+00  4.454157e+02  3.727154e+00\n",
       "std    1.688238e+00  3.477432e+00  8.487723e+02  6.193240e-01\n",
       "min    0.000000e+00 -1.000000e+00  3.000000e+00  1.000000e+00\n",
       "25%    3.000000e+00  0.000000e+00  6.500000e+01  3.500000e+00\n",
       "50%    4.000000e+00  0.000000e+00  1.800000e+02  4.000000e+00\n",
       "75%    5.000000e+00  1.000000e+00  4.470000e+02  4.000000e+00\n",
       "max    1.114000e+03  1.234000e+03  7.968000e+03  5.000000e+00"
      ]
     },
     "execution_count": 27,
     "metadata": {},
     "output_type": "execute_result"
    }
   ],
   "source": [
    "reviews.describe()"
   ]
  },
  {
   "cell_type": "code",
   "execution_count": 29,
   "metadata": {},
   "outputs": [
    {
     "data": {
      "text/plain": [
       "1433260    1114.0\n",
       "1366962    1022.0\n",
       "1137433     858.0\n",
       "2393163     539.0\n",
       "2289524     506.0\n",
       "831928      462.0\n",
       "2149205     427.0\n",
       "136914      165.0\n",
       "1894940      76.0\n",
       "3608419      56.0\n",
       "Name: stars_x, dtype: float64"
      ]
     },
     "execution_count": 29,
     "metadata": {},
     "output_type": "execute_result"
    }
   ],
   "source": [
    "reviews.stars_x.sort_values(ascending=False).head(10)"
   ]
  },
  {
   "cell_type": "code",
   "execution_count": 31,
   "metadata": {},
   "outputs": [
    {
     "data": {
      "text/plain": [
       "3.726080968264889"
      ]
     },
     "execution_count": 31,
     "metadata": {},
     "output_type": "execute_result"
    }
   ],
   "source": [
    "stars = reviews.stars_x\n",
    "stars.mean()"
   ]
  },
  {
   "cell_type": "code",
   "execution_count": 32,
   "metadata": {},
   "outputs": [
    {
     "data": {
      "text/html": [
       "<div>\n",
       "<style scoped>\n",
       "    .dataframe tbody tr th:only-of-type {\n",
       "        vertical-align: middle;\n",
       "    }\n",
       "\n",
       "    .dataframe tbody tr th {\n",
       "        vertical-align: top;\n",
       "    }\n",
       "\n",
       "    .dataframe thead th {\n",
       "        text-align: right;\n",
       "    }\n",
       "</style>\n",
       "<table border=\"1\" class=\"dataframe\">\n",
       "  <thead>\n",
       "    <tr style=\"text-align: right;\">\n",
       "      <th></th>\n",
       "      <th>useful</th>\n",
       "      <th>review_count</th>\n",
       "      <th>stars_y</th>\n",
       "    </tr>\n",
       "    <tr>\n",
       "      <th>stars_x</th>\n",
       "      <th></th>\n",
       "      <th></th>\n",
       "      <th></th>\n",
       "    </tr>\n",
       "  </thead>\n",
       "  <tbody>\n",
       "    <tr>\n",
       "      <th>0.0</th>\n",
       "      <td>0.000000</td>\n",
       "      <td>62.000000</td>\n",
       "      <td>2.500000</td>\n",
       "    </tr>\n",
       "    <tr>\n",
       "      <th>1.0</th>\n",
       "      <td>1.379798</td>\n",
       "      <td>308.810597</td>\n",
       "      <td>3.195432</td>\n",
       "    </tr>\n",
       "    <tr>\n",
       "      <th>2.0</th>\n",
       "      <td>1.331499</td>\n",
       "      <td>395.486687</td>\n",
       "      <td>3.431619</td>\n",
       "    </tr>\n",
       "    <tr>\n",
       "      <th>3.0</th>\n",
       "      <td>1.216571</td>\n",
       "      <td>438.640901</td>\n",
       "      <td>3.566165</td>\n",
       "    </tr>\n",
       "    <tr>\n",
       "      <th>4.0</th>\n",
       "      <td>1.242151</td>\n",
       "      <td>464.427466</td>\n",
       "      <td>3.762231</td>\n",
       "    </tr>\n",
       "    <tr>\n",
       "      <th>5.0</th>\n",
       "      <td>0.944221</td>\n",
       "      <td>487.053161</td>\n",
       "      <td>3.985561</td>\n",
       "    </tr>\n",
       "    <tr>\n",
       "      <th>56.0</th>\n",
       "      <td>NaN</td>\n",
       "      <td>NaN</td>\n",
       "      <td>NaN</td>\n",
       "    </tr>\n",
       "    <tr>\n",
       "      <th>76.0</th>\n",
       "      <td>NaN</td>\n",
       "      <td>NaN</td>\n",
       "      <td>NaN</td>\n",
       "    </tr>\n",
       "    <tr>\n",
       "      <th>165.0</th>\n",
       "      <td>NaN</td>\n",
       "      <td>NaN</td>\n",
       "      <td>NaN</td>\n",
       "    </tr>\n",
       "    <tr>\n",
       "      <th>427.0</th>\n",
       "      <td>NaN</td>\n",
       "      <td>NaN</td>\n",
       "      <td>NaN</td>\n",
       "    </tr>\n",
       "    <tr>\n",
       "      <th>462.0</th>\n",
       "      <td>NaN</td>\n",
       "      <td>NaN</td>\n",
       "      <td>NaN</td>\n",
       "    </tr>\n",
       "    <tr>\n",
       "      <th>506.0</th>\n",
       "      <td>NaN</td>\n",
       "      <td>NaN</td>\n",
       "      <td>NaN</td>\n",
       "    </tr>\n",
       "    <tr>\n",
       "      <th>539.0</th>\n",
       "      <td>NaN</td>\n",
       "      <td>NaN</td>\n",
       "      <td>NaN</td>\n",
       "    </tr>\n",
       "    <tr>\n",
       "      <th>858.0</th>\n",
       "      <td>NaN</td>\n",
       "      <td>NaN</td>\n",
       "      <td>NaN</td>\n",
       "    </tr>\n",
       "    <tr>\n",
       "      <th>1022.0</th>\n",
       "      <td>NaN</td>\n",
       "      <td>NaN</td>\n",
       "      <td>NaN</td>\n",
       "    </tr>\n",
       "    <tr>\n",
       "      <th>1114.0</th>\n",
       "      <td>NaN</td>\n",
       "      <td>NaN</td>\n",
       "      <td>NaN</td>\n",
       "    </tr>\n",
       "  </tbody>\n",
       "</table>\n",
       "</div>"
      ],
      "text/plain": [
       "           useful  review_count   stars_y\n",
       "stars_x                                  \n",
       "0.0      0.000000     62.000000  2.500000\n",
       "1.0      1.379798    308.810597  3.195432\n",
       "2.0      1.331499    395.486687  3.431619\n",
       "3.0      1.216571    438.640901  3.566165\n",
       "4.0      1.242151    464.427466  3.762231\n",
       "5.0      0.944221    487.053161  3.985561\n",
       "56.0          NaN           NaN       NaN\n",
       "76.0          NaN           NaN       NaN\n",
       "165.0         NaN           NaN       NaN\n",
       "427.0         NaN           NaN       NaN\n",
       "462.0         NaN           NaN       NaN\n",
       "506.0         NaN           NaN       NaN\n",
       "539.0         NaN           NaN       NaN\n",
       "858.0         NaN           NaN       NaN\n",
       "1022.0        NaN           NaN       NaN\n",
       "1114.0        NaN           NaN       NaN"
      ]
     },
     "execution_count": 32,
     "metadata": {},
     "output_type": "execute_result"
    }
   ],
   "source": [
    "reviews.groupby(['stars_x']).mean()  # review stars, extra values due to NA's"
   ]
  },
  {
   "cell_type": "code",
   "execution_count": 36,
   "metadata": {},
   "outputs": [
    {
     "data": {
      "text/html": [
       "<div>\n",
       "<style scoped>\n",
       "    .dataframe tbody tr th:only-of-type {\n",
       "        vertical-align: middle;\n",
       "    }\n",
       "\n",
       "    .dataframe tbody tr th {\n",
       "        vertical-align: top;\n",
       "    }\n",
       "\n",
       "    .dataframe thead th {\n",
       "        text-align: right;\n",
       "    }\n",
       "</style>\n",
       "<table border=\"1\" class=\"dataframe\">\n",
       "  <thead>\n",
       "    <tr style=\"text-align: right;\">\n",
       "      <th></th>\n",
       "      <th>stars_x</th>\n",
       "      <th>useful</th>\n",
       "      <th>review_count</th>\n",
       "    </tr>\n",
       "    <tr>\n",
       "      <th>stars_y</th>\n",
       "      <th></th>\n",
       "      <th></th>\n",
       "      <th></th>\n",
       "    </tr>\n",
       "  </thead>\n",
       "  <tbody>\n",
       "    <tr>\n",
       "      <th>1.0</th>\n",
       "      <td>1.106167</td>\n",
       "      <td>1.293388</td>\n",
       "      <td>11.171647</td>\n",
       "    </tr>\n",
       "    <tr>\n",
       "      <th>1.5</th>\n",
       "      <td>1.553142</td>\n",
       "      <td>1.224068</td>\n",
       "      <td>41.455997</td>\n",
       "    </tr>\n",
       "    <tr>\n",
       "      <th>2.0</th>\n",
       "      <td>2.046707</td>\n",
       "      <td>1.107305</td>\n",
       "      <td>66.034469</td>\n",
       "    </tr>\n",
       "    <tr>\n",
       "      <th>2.5</th>\n",
       "      <td>2.534426</td>\n",
       "      <td>1.130127</td>\n",
       "      <td>146.971338</td>\n",
       "    </tr>\n",
       "    <tr>\n",
       "      <th>3.0</th>\n",
       "      <td>3.033885</td>\n",
       "      <td>1.198473</td>\n",
       "      <td>262.810946</td>\n",
       "    </tr>\n",
       "    <tr>\n",
       "      <th>3.5</th>\n",
       "      <td>3.522197</td>\n",
       "      <td>1.100755</td>\n",
       "      <td>351.238841</td>\n",
       "    </tr>\n",
       "    <tr>\n",
       "      <th>4.0</th>\n",
       "      <td>3.999596</td>\n",
       "      <td>1.124621</td>\n",
       "      <td>611.106439</td>\n",
       "    </tr>\n",
       "    <tr>\n",
       "      <th>4.5</th>\n",
       "      <td>4.424391</td>\n",
       "      <td>1.204055</td>\n",
       "      <td>511.021683</td>\n",
       "    </tr>\n",
       "    <tr>\n",
       "      <th>5.0</th>\n",
       "      <td>4.849385</td>\n",
       "      <td>1.469988</td>\n",
       "      <td>189.316495</td>\n",
       "    </tr>\n",
       "  </tbody>\n",
       "</table>\n",
       "</div>"
      ],
      "text/plain": [
       "          stars_x    useful  review_count\n",
       "stars_y                                  \n",
       "1.0      1.106167  1.293388     11.171647\n",
       "1.5      1.553142  1.224068     41.455997\n",
       "2.0      2.046707  1.107305     66.034469\n",
       "2.5      2.534426  1.130127    146.971338\n",
       "3.0      3.033885  1.198473    262.810946\n",
       "3.5      3.522197  1.100755    351.238841\n",
       "4.0      3.999596  1.124621    611.106439\n",
       "4.5      4.424391  1.204055    511.021683\n",
       "5.0      4.849385  1.469988    189.316495"
      ]
     },
     "execution_count": 36,
     "metadata": {},
     "output_type": "execute_result"
    }
   ],
   "source": [
    "reviews.groupby(['stars_y']).mean() # resturant's stars"
   ]
  },
  {
   "cell_type": "code",
   "execution_count": 34,
   "metadata": {},
   "outputs": [],
   "source": [
    "cats = reviews.categories\n",
    "cats = list(cats)\n",
    "categories_set = set()\n",
    "for i in range(len(cats)):\n",
    "    if cats[i] != None:\n",
    "        cat_list = str(cats[i]).split(\",\")\n",
    "        for word in cat_list:\n",
    "            categories_set.add(word) "
   ]
  },
  {
   "cell_type": "code",
   "execution_count": 40,
   "metadata": {},
   "outputs": [
    {
     "data": {
      "text/plain": [
       "1305"
      ]
     },
     "execution_count": 40,
     "metadata": {},
     "output_type": "execute_result"
    }
   ],
   "source": [
    "len(categories_set)"
   ]
  },
  {
   "cell_type": "code",
   "execution_count": 41,
   "metadata": {},
   "outputs": [
    {
     "data": {
      "text/plain": [
       "Unnamed: 0                                                      3\n",
       "business_id                                iCQpiavjjPzJ5_3gPD5Ebg\n",
       "cool                                                            0\n",
       "date                                                   2014-12-30\n",
       "funny                                                           0\n",
       "review_id                                  pcn01EMERpCpHEcoaohdEg\n",
       "stars_x                                                         5\n",
       "text            This SECRET  PIZZA was a secret for about 5 st...\n",
       "useful                                                          0\n",
       "user_id                                    RTiaaHSN80VRTLSdNK5rfQ\n",
       "categories                                     Pizza, Restaurants\n",
       "city                                                    Las Vegas\n",
       "name                                                 Secret Pizza\n",
       "review_count                                                 4078\n",
       "stars_y                                                         4\n",
       "Name: 3, dtype: object"
      ]
     },
     "execution_count": 41,
     "metadata": {},
     "output_type": "execute_result"
    }
   ],
   "source": [
    "reviews.iloc[3]"
   ]
  },
  {
   "cell_type": "code",
   "execution_count": 42,
   "metadata": {},
   "outputs": [
    {
     "data": {
      "text/plain": [
       "Unnamed: 0      False\n",
       "business_id      True\n",
       "cool             True\n",
       "date             True\n",
       "funny            True\n",
       "review_id        True\n",
       "stars_x          True\n",
       "text             True\n",
       "useful           True\n",
       "user_id          True\n",
       "categories       True\n",
       "city             True\n",
       "name             True\n",
       "review_count     True\n",
       "stars_y          True\n",
       "dtype: bool"
      ]
     },
     "execution_count": 42,
     "metadata": {},
     "output_type": "execute_result"
    }
   ],
   "source": [
    "reviews.isnull().any()"
   ]
  },
  {
   "cell_type": "code",
   "execution_count": 45,
   "metadata": {},
   "outputs": [],
   "source": [
    "reviews_dropna = reviews.dropna()"
   ]
  },
  {
   "cell_type": "code",
   "execution_count": 46,
   "metadata": {},
   "outputs": [
    {
     "data": {
      "text/plain": [
       "70"
      ]
     },
     "execution_count": 46,
     "metadata": {},
     "output_type": "execute_result"
    }
   ],
   "source": [
    "len(reviews) - len(reviews_dropna)"
   ]
  },
  {
   "cell_type": "code",
   "execution_count": 47,
   "metadata": {},
   "outputs": [
    {
     "data": {
      "text/html": [
       "<div>\n",
       "<style scoped>\n",
       "    .dataframe tbody tr th:only-of-type {\n",
       "        vertical-align: middle;\n",
       "    }\n",
       "\n",
       "    .dataframe tbody tr th {\n",
       "        vertical-align: top;\n",
       "    }\n",
       "\n",
       "    .dataframe thead th {\n",
       "        text-align: right;\n",
       "    }\n",
       "</style>\n",
       "<table border=\"1\" class=\"dataframe\">\n",
       "  <thead>\n",
       "    <tr style=\"text-align: right;\">\n",
       "      <th></th>\n",
       "      <th>useful</th>\n",
       "      <th>review_count</th>\n",
       "      <th>stars_y</th>\n",
       "    </tr>\n",
       "    <tr>\n",
       "      <th>stars_x</th>\n",
       "      <th></th>\n",
       "      <th></th>\n",
       "      <th></th>\n",
       "    </tr>\n",
       "  </thead>\n",
       "  <tbody>\n",
       "    <tr>\n",
       "      <th>1.0</th>\n",
       "      <td>1.379816</td>\n",
       "      <td>308.814308</td>\n",
       "      <td>3.195441</td>\n",
       "    </tr>\n",
       "    <tr>\n",
       "      <th>2.0</th>\n",
       "      <td>1.331511</td>\n",
       "      <td>395.491733</td>\n",
       "      <td>3.431626</td>\n",
       "    </tr>\n",
       "    <tr>\n",
       "      <th>3.0</th>\n",
       "      <td>1.216579</td>\n",
       "      <td>438.644769</td>\n",
       "      <td>3.566175</td>\n",
       "    </tr>\n",
       "    <tr>\n",
       "      <th>4.0</th>\n",
       "      <td>1.242139</td>\n",
       "      <td>464.430402</td>\n",
       "      <td>3.762235</td>\n",
       "    </tr>\n",
       "    <tr>\n",
       "      <th>5.0</th>\n",
       "      <td>0.944225</td>\n",
       "      <td>487.057402</td>\n",
       "      <td>3.985556</td>\n",
       "    </tr>\n",
       "  </tbody>\n",
       "</table>\n",
       "</div>"
      ],
      "text/plain": [
       "           useful  review_count   stars_y\n",
       "stars_x                                  \n",
       "1.0      1.379816    308.814308  3.195441\n",
       "2.0      1.331511    395.491733  3.431626\n",
       "3.0      1.216579    438.644769  3.566175\n",
       "4.0      1.242139    464.430402  3.762235\n",
       "5.0      0.944225    487.057402  3.985556"
      ]
     },
     "execution_count": 47,
     "metadata": {},
     "output_type": "execute_result"
    }
   ],
   "source": [
    "reviews_dropna.groupby(['stars_x']).mean()"
   ]
  },
  {
   "cell_type": "markdown",
   "metadata": {},
   "source": [
    "# Making Folders that Contain Review Text"
   ]
  },
  {
   "cell_type": "code",
   "execution_count": 48,
   "metadata": {},
   "outputs": [],
   "source": [
    "#star_5 = reviews[reviews.stars_x==5.0]  # get into folders labled 5, 4, 3, 2, star etc\n",
    "\n",
    "stars = [5.0, 4.0, 3.0, 2.0, 1.0]\n",
    "df_names = ['reviews5', 'reviews4', 'reviews3', 'reviews2', 'reviews1']\n",
    "\n",
    "for i in range(5):\n",
    "    star_i = reviews[reviews.stars_x==stars[i]] \n",
    "    star_i.to_csv(df_names[i], sep='\\t', encoding='utf-8')"
   ]
  },
  {
   "cell_type": "code",
   "execution_count": 56,
   "metadata": {},
   "outputs": [
    {
     "data": {
      "text/plain": [
       "'This place is truly a secret!  Its so hidden that there are no signs in the directory of the restaurant itself except for the line of people waiting to enjoy a slice of the best pizza they ever had.  It is thin crust pizza, crispy crust and delicious toppings!  If you can go for lunch there is less of a line.\\nTheir pepperoni was nice and oily just the way i like it'"
      ]
     },
     "execution_count": 56,
     "metadata": {},
     "output_type": "execute_result"
    }
   ],
   "source": [
    "star_5 = reviews[reviews.stars_x==5.0]\n",
    "star_5.text[2]"
   ]
  },
  {
   "cell_type": "code",
   "execution_count": 78,
   "metadata": {},
   "outputs": [],
   "source": [
    "! mkdir star_5"
   ]
  },
  {
   "cell_type": "code",
   "execution_count": 81,
   "metadata": {},
   "outputs": [],
   "source": [
    "! cd star_5"
   ]
  },
  {
   "cell_type": "code",
   "execution_count": 85,
   "metadata": {},
   "outputs": [
    {
     "name": "stdout",
     "output_type": "stream",
     "text": [
      "/Users/7of9/Documents/Machine_Learning/yelp-dataset\r\n"
     ]
    }
   ],
   "source": [
    "! pwd"
   ]
  },
  {
   "cell_type": "code",
   "execution_count": 86,
   "metadata": {},
   "outputs": [],
   "source": [
    "! cd star_5"
   ]
  },
  {
   "cell_type": "code",
   "execution_count": 88,
   "metadata": {},
   "outputs": [
    {
     "name": "stdout",
     "output_type": "stream",
     "text": [
      "/Users/7of9/Documents/Machine_Learning/yelp-dataset\r\n"
     ]
    }
   ],
   "source": [
    "! pwd"
   ]
  },
  {
   "cell_type": "code",
   "execution_count": null,
   "metadata": {},
   "outputs": [],
   "source": [
    "path = os.getcwd() + '/star_5'\n",
    "os.chdir(path) "
   ]
  },
  {
   "cell_type": "code",
   "execution_count": 97,
   "metadata": {},
   "outputs": [
    {
     "name": "stdout",
     "output_type": "stream",
     "text": [
      "/Users/7of9/Documents/Machine_Learning/yelp-dataset/star_5\r\n"
     ]
    }
   ],
   "source": [
    "! pwd"
   ]
  },
  {
   "cell_type": "code",
   "execution_count": null,
   "metadata": {},
   "outputs": [],
   "source": [
    "star_5_df = reviews[reviews.stars_x==5.0]\n",
    "\n",
    "for i in star_5_df.index:\n",
    "    text_df = pd.DataFrame([star_5_df.text[i]])\n",
    "    filename = 'text'+str(i)+\".txt\"\n",
    "    text_df.to_csv(filename, sep='\\t', encoding='utf-8')\n",
    "# need bigger computer"
   ]
  },
  {
   "cell_type": "code",
   "execution_count": 100,
   "metadata": {},
   "outputs": [],
   "source": [
    "! mkdir star_4_small"
   ]
  },
  {
   "cell_type": "code",
   "execution_count": 101,
   "metadata": {},
   "outputs": [],
   "source": [
    "path = os.getcwd() + '/star_4_small'\n",
    "os.chdir(path) \n",
    "\n",
    "star_4_small_df = reviews[reviews.stars_x==4.0]\n",
    "\n",
    "for i in star_4_small_df.index[1000:1500]:\n",
    "    text_df = pd.DataFrame([star_4_small_df.text[i]])\n",
    "    filename = 'text'+str(i)+\".txt\"\n",
    "    text_df.to_csv(filename, sep='\\t', encoding='utf-8')"
   ]
  },
  {
   "cell_type": "code",
   "execution_count": 104,
   "metadata": {},
   "outputs": [
    {
     "name": "stdout",
     "output_type": "stream",
     "text": [
      "mkdir: star_5_small: File exists\r\n"
     ]
    }
   ],
   "source": [
    "! mkdir star_5_small"
   ]
  },
  {
   "cell_type": "code",
   "execution_count": 105,
   "metadata": {},
   "outputs": [],
   "source": [
    "path = os.getcwd() + '/star_5_small'\n",
    "os.chdir(path) \n",
    "\n",
    "star_5_small_df = reviews[reviews.stars_x==5.0]\n",
    "\n",
    "for i in star_5_small_df.index[1000:1500]:\n",
    "    text_df = pd.DataFrame([star_5_small_df.text[i]])\n",
    "    filename = 'text'+str(i)+\".txt\"\n",
    "    text_df.to_csv(filename, sep='\\t', encoding='utf-8')"
   ]
  },
  {
   "cell_type": "code",
   "execution_count": 109,
   "metadata": {},
   "outputs": [],
   "source": [
    "! mkdir star_3_small"
   ]
  },
  {
   "cell_type": "code",
   "execution_count": 112,
   "metadata": {},
   "outputs": [
    {
     "data": {
      "text/plain": [
       "539889"
      ]
     },
     "execution_count": 112,
     "metadata": {},
     "output_type": "execute_result"
    }
   ],
   "source": [
    "star_3_small_df = reviews[reviews.stars_x==3.0]\n",
    "len(star_3_small_df.index)"
   ]
  },
  {
   "cell_type": "code",
   "execution_count": 139,
   "metadata": {},
   "outputs": [],
   "source": [
    "os.chdir('/Users/7of9/Documents/Machine_Learning/yelp-dataset/star_5')"
   ]
  },
  {
   "cell_type": "code",
   "execution_count": 178,
   "metadata": {},
   "outputs": [
    {
     "name": "stdout",
     "output_type": "stream",
     "text": [
      "/Users/7of9/Documents/Machine_Learning/yelp-dataset/star_5\r\n"
     ]
    }
   ],
   "source": [
    "! pwd"
   ]
  },
  {
   "cell_type": "code",
   "execution_count": 179,
   "metadata": {},
   "outputs": [],
   "source": [
    "! mkdir star_3_small"
   ]
  },
  {
   "cell_type": "code",
   "execution_count": 152,
   "metadata": {},
   "outputs": [
    {
     "data": {
      "text/plain": [
       "Int64Index([202, 204, 206, 207, 209], dtype='int64')"
      ]
     },
     "execution_count": 152,
     "metadata": {},
     "output_type": "execute_result"
    }
   ],
   "source": [
    "star_3_list[100:105]"
   ]
  },
  {
   "cell_type": "code",
   "execution_count": 156,
   "metadata": {},
   "outputs": [],
   "source": [
    "star_3_small_df = reviews[reviews.stars_x==3.0]"
   ]
  },
  {
   "cell_type": "code",
   "execution_count": 182,
   "metadata": {},
   "outputs": [],
   "source": [
    "path = os.getcwd() + '/star_3_small'\n",
    "os.chdir(path) \n",
    "\n",
    "key_errors = [202, 204, 209]\n",
    "star_3_small_df = reviews[reviews.stars_x==3.0]\n",
    "\n",
    "#star_3_list = star_3_small_df.index\n",
    "#star_3_list = list(star_3_list)\n",
    "for i in star_3_small_df.index[1000:1500]:\n",
    "    text_df = pd.DataFrame([star_3_small_df.text[i]])\n",
    "    filename = 'text'+str(i)+\".txt\"\n",
    "    text_df.to_csv(filename, sep='\\t', encoding='utf-8')"
   ]
  },
  {
   "cell_type": "code",
   "execution_count": 183,
   "metadata": {},
   "outputs": [
    {
     "name": "stdout",
     "output_type": "stream",
     "text": [
      "/Users/7of9/Documents/Machine_Learning/yelp-dataset/star_5/star_3_small\r\n"
     ]
    }
   ],
   "source": [
    "! pwd"
   ]
  },
  {
   "cell_type": "code",
   "execution_count": 131,
   "metadata": {},
   "outputs": [
    {
     "name": "stdout",
     "output_type": "stream",
     "text": [
      "/Users/7of9/Documents/Machine_Learning/yelp-dataset/star_5\r\n"
     ]
    }
   ],
   "source": [
    "! pwd"
   ]
  },
  {
   "cell_type": "code",
   "execution_count": 133,
   "metadata": {},
   "outputs": [],
   "source": [
    "! mkdir star_2_small "
   ]
  },
  {
   "cell_type": "code",
   "execution_count": 134,
   "metadata": {},
   "outputs": [],
   "source": [
    "path = os.getcwd() + '/star_2_small'\n",
    "os.chdir(path) \n",
    "\n",
    "star_2_small_df = reviews[reviews.stars_x==2.0]\n",
    "\n",
    "for i in star_2_small_df.index[1000:1500]:\n",
    "    text_df = pd.DataFrame([star_2_small_df.text[i]])\n",
    "    filename = 'text'+str(i)+\".txt\"\n",
    "    text_df.to_csv(filename, sep='\\t', encoding='utf-8')"
   ]
  },
  {
   "cell_type": "code",
   "execution_count": 135,
   "metadata": {},
   "outputs": [
    {
     "name": "stdout",
     "output_type": "stream",
     "text": [
      "/Users/7of9/Documents/Machine_Learning/yelp-dataset/star_5/star_2_small\r\n"
     ]
    }
   ],
   "source": [
    "! pwd"
   ]
  },
  {
   "cell_type": "code",
   "execution_count": 136,
   "metadata": {},
   "outputs": [],
   "source": [
    "os.chdir('/Users/7of9/Documents/Machine_Learning/yelp-dataset/star_5')"
   ]
  },
  {
   "cell_type": "code",
   "execution_count": 137,
   "metadata": {},
   "outputs": [],
   "source": [
    "! mkdir star_1_small"
   ]
  },
  {
   "cell_type": "code",
   "execution_count": 138,
   "metadata": {},
   "outputs": [],
   "source": [
    "path = os.getcwd() + '/star_1_small'\n",
    "os.chdir(path) \n",
    "\n",
    "star_1_small_df = reviews[reviews.stars_x==1.0]\n",
    "\n",
    "for i in star_1_small_df.index[1000:1500]:\n",
    "    text_df = pd.DataFrame([star_1_small_df.text[i]])\n",
    "    filename = 'text'+str(i)+\".txt\"\n",
    "    text_df.to_csv(filename, sep='\\t', encoding='utf-8')"
   ]
  }
 ],
 "metadata": {
  "kernelspec": {
   "display_name": "Python 3",
   "language": "python",
   "name": "python3"
  },
  "language_info": {
   "codemirror_mode": {
    "name": "ipython",
    "version": 3
   },
   "file_extension": ".py",
   "mimetype": "text/x-python",
   "name": "python",
   "nbconvert_exporter": "python",
   "pygments_lexer": "ipython3",
   "version": "3.6.8"
  }
 },
 "nbformat": 4,
 "nbformat_minor": 2
}
