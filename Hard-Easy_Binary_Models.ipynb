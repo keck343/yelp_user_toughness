{
 "cells": [
  {
   "cell_type": "markdown",
   "metadata": {},
   "source": [
    "# Hard-Easy Binary Models"
   ]
  },
  {
   "cell_type": "code",
   "execution_count": 1,
   "metadata": {},
   "outputs": [],
   "source": [
    "import sys\n",
    "import json\n",
    "import pandas as pd\n",
    "import numpy as np"
   ]
  },
  {
   "cell_type": "code",
   "execution_count": 2,
   "metadata": {},
   "outputs": [],
   "source": [
    "from sklearn.datasets import load_files\n",
    "from sklearn.model_selection import train_test_split\n",
    "from sklearn.metrics import accuracy_score, precision_score\n",
    "from sklearn.feature_extraction.text import TfidfVectorizer\n",
    "from sklearn.base import BaseEstimator\n",
    "from sklearn.model_selection import GridSearchCV\n",
    "from sklearn.pipeline import Pipeline"
   ]
  },
  {
   "cell_type": "code",
   "execution_count": 3,
   "metadata": {},
   "outputs": [],
   "source": [
    "with open('df_by_usr.json', 'r', encoding='UTF-8') as f:\n",
    "    data = f.readlines()\n",
    "    df_by_usr_data = list(map(json.loads, data))\n",
    "    \n",
    "df_by_usr = pd.DataFrame(df_by_usr_data)"
   ]
  },
  {
   "cell_type": "code",
   "execution_count": 4,
   "metadata": {},
   "outputs": [
    {
     "data": {
      "text/html": [
       "<div>\n",
       "<style scoped>\n",
       "    .dataframe tbody tr th:only-of-type {\n",
       "        vertical-align: middle;\n",
       "    }\n",
       "\n",
       "    .dataframe tbody tr th {\n",
       "        vertical-align: top;\n",
       "    }\n",
       "\n",
       "    .dataframe thead th {\n",
       "        text-align: right;\n",
       "    }\n",
       "</style>\n",
       "<table border=\"1\" class=\"dataframe\">\n",
       "  <thead>\n",
       "    <tr style=\"text-align: right;\">\n",
       "      <th></th>\n",
       "      <th>avg_star_delta</th>\n",
       "      <th>reviewer_label</th>\n",
       "      <th>text_agg</th>\n",
       "      <th>user_id</th>\n",
       "    </tr>\n",
       "  </thead>\n",
       "  <tbody>\n",
       "    <tr>\n",
       "      <th>0</th>\n",
       "      <td>-0.318182</td>\n",
       "      <td>med</td>\n",
       "      <td>Ummm, due to the star ratings on Yelp we made ...</td>\n",
       "      <td>--3WaS23LcIXtxyFULJHTA</td>\n",
       "    </tr>\n",
       "    <tr>\n",
       "      <th>1</th>\n",
       "      <td>-0.947368</td>\n",
       "      <td>hard</td>\n",
       "      <td>In my opinion, this restaurant has the best fo...</td>\n",
       "      <td>--4rAAfZnEIAKJE80aIiYg</td>\n",
       "    </tr>\n",
       "    <tr>\n",
       "      <th>2</th>\n",
       "      <td>0.333333</td>\n",
       "      <td>med</td>\n",
       "      <td>All is right with the world. After going to th...</td>\n",
       "      <td>--CIuK7sUpaNzalLAlHJKA</td>\n",
       "    </tr>\n",
       "  </tbody>\n",
       "</table>\n",
       "</div>"
      ],
      "text/plain": [
       "   avg_star_delta reviewer_label  \\\n",
       "0       -0.318182            med   \n",
       "1       -0.947368           hard   \n",
       "2        0.333333            med   \n",
       "\n",
       "                                            text_agg                 user_id  \n",
       "0  Ummm, due to the star ratings on Yelp we made ...  --3WaS23LcIXtxyFULJHTA  \n",
       "1  In my opinion, this restaurant has the best fo...  --4rAAfZnEIAKJE80aIiYg  \n",
       "2  All is right with the world. After going to th...  --CIuK7sUpaNzalLAlHJKA  "
      ]
     },
     "execution_count": 4,
     "metadata": {},
     "output_type": "execute_result"
    }
   ],
   "source": [
    "df_by_usr.head(3)"
   ]
  },
  {
   "cell_type": "code",
   "execution_count": 5,
   "metadata": {},
   "outputs": [],
   "source": [
    "df_hard_easy = df_by_usr[df_by_usr.reviewer_label != 'med'] "
   ]
  },
  {
   "cell_type": "code",
   "execution_count": 6,
   "metadata": {},
   "outputs": [
    {
     "data": {
      "text/html": [
       "<div>\n",
       "<style scoped>\n",
       "    .dataframe tbody tr th:only-of-type {\n",
       "        vertical-align: middle;\n",
       "    }\n",
       "\n",
       "    .dataframe tbody tr th {\n",
       "        vertical-align: top;\n",
       "    }\n",
       "\n",
       "    .dataframe thead th {\n",
       "        text-align: right;\n",
       "    }\n",
       "</style>\n",
       "<table border=\"1\" class=\"dataframe\">\n",
       "  <thead>\n",
       "    <tr style=\"text-align: right;\">\n",
       "      <th></th>\n",
       "      <th>avg_star_delta</th>\n",
       "      <th>reviewer_label</th>\n",
       "      <th>text_agg</th>\n",
       "      <th>user_id</th>\n",
       "    </tr>\n",
       "  </thead>\n",
       "  <tbody>\n",
       "    <tr>\n",
       "      <th>1</th>\n",
       "      <td>-0.947368</td>\n",
       "      <td>hard</td>\n",
       "      <td>In my opinion, this restaurant has the best fo...</td>\n",
       "      <td>--4rAAfZnEIAKJE80aIiYg</td>\n",
       "    </tr>\n",
       "    <tr>\n",
       "      <th>3</th>\n",
       "      <td>0.900000</td>\n",
       "      <td>easy</td>\n",
       "      <td>One of the best buffets I have been to for the...</td>\n",
       "      <td>--HCoE1ghaAlcaAfshICgw</td>\n",
       "    </tr>\n",
       "    <tr>\n",
       "      <th>5</th>\n",
       "      <td>-0.666667</td>\n",
       "      <td>hard</td>\n",
       "      <td>At 1200+ reviews, there's basically nothing to...</td>\n",
       "      <td>--WLHsm-AC4jcol2gOkmCQ</td>\n",
       "    </tr>\n",
       "    <tr>\n",
       "      <th>6</th>\n",
       "      <td>-0.656250</td>\n",
       "      <td>hard</td>\n",
       "      <td>Popular sandwich place, located on the Vegas s...</td>\n",
       "      <td>-00kdEIhCt-ODaV4BS-EAg</td>\n",
       "    </tr>\n",
       "    <tr>\n",
       "      <th>10</th>\n",
       "      <td>-0.500000</td>\n",
       "      <td>hard</td>\n",
       "      <td>The food was pretty good. \\n\\nPrices a little ...</td>\n",
       "      <td>-0Xu57zrI3Rxi8wGZsnWKQ</td>\n",
       "    </tr>\n",
       "  </tbody>\n",
       "</table>\n",
       "</div>"
      ],
      "text/plain": [
       "    avg_star_delta reviewer_label  \\\n",
       "1        -0.947368           hard   \n",
       "3         0.900000           easy   \n",
       "5        -0.666667           hard   \n",
       "6        -0.656250           hard   \n",
       "10       -0.500000           hard   \n",
       "\n",
       "                                             text_agg                 user_id  \n",
       "1   In my opinion, this restaurant has the best fo...  --4rAAfZnEIAKJE80aIiYg  \n",
       "3   One of the best buffets I have been to for the...  --HCoE1ghaAlcaAfshICgw  \n",
       "5   At 1200+ reviews, there's basically nothing to...  --WLHsm-AC4jcol2gOkmCQ  \n",
       "6   Popular sandwich place, located on the Vegas s...  -00kdEIhCt-ODaV4BS-EAg  \n",
       "10  The food was pretty good. \\n\\nPrices a little ...  -0Xu57zrI3Rxi8wGZsnWKQ  "
      ]
     },
     "execution_count": 6,
     "metadata": {},
     "output_type": "execute_result"
    }
   ],
   "source": [
    "df_hard_easy.head(5)"
   ]
  },
  {
   "cell_type": "code",
   "execution_count": 7,
   "metadata": {},
   "outputs": [],
   "source": [
    "train_data, test_data, train_target, test_target = train_test_split(df_hard_easy['text_agg'],\n",
    "                                                                    df_hard_easy['reviewer_label'])"
   ]
  },
  {
   "cell_type": "code",
   "execution_count": 8,
   "metadata": {},
   "outputs": [
    {
     "data": {
      "text/plain": [
       "31038    The food is good but the owners are so rude  a...\n",
       "4089     Just got out of meetings and wanted Thai food....\n",
       "13002    This is the original Fat willy's here in the v...\n",
       "4106     I had a chance to stop by and meet the new GM ...\n",
       "24613    Best AYCE sushi in Mississauga. Sushi quality ...\n",
       "Name: text_agg, dtype: object"
      ]
     },
     "execution_count": 8,
     "metadata": {},
     "output_type": "execute_result"
    }
   ],
   "source": [
    "train_data[0:5]"
   ]
  },
  {
   "cell_type": "code",
   "execution_count": 9,
   "metadata": {},
   "outputs": [
    {
     "data": {
      "text/plain": [
       "31038    hard\n",
       "4089     easy\n",
       "13002    easy\n",
       "4106     easy\n",
       "24613    easy\n",
       "Name: reviewer_label, dtype: object"
      ]
     },
     "execution_count": 9,
     "metadata": {},
     "output_type": "execute_result"
    }
   ],
   "source": [
    "train_target[0:5]"
   ]
  },
  {
   "cell_type": "code",
   "execution_count": 10,
   "metadata": {},
   "outputs": [],
   "source": [
    "str_test_data = []\n",
    "for text in test_data:\n",
    "    str_test_data.append(str(text))"
   ]
  },
  {
   "cell_type": "code",
   "execution_count": 11,
   "metadata": {},
   "outputs": [],
   "source": [
    "str_train_data = []\n",
    "for text in train_data:\n",
    "    str_train_data.append(str(text))"
   ]
  },
  {
   "cell_type": "code",
   "execution_count": 12,
   "metadata": {},
   "outputs": [],
   "source": [
    "vectorizer = TfidfVectorizer(binary=True, ngram_range=(1,2), max_df=0.95) "
   ]
  },
  {
   "cell_type": "code",
   "execution_count": 13,
   "metadata": {},
   "outputs": [],
   "source": [
    "train_features = vectorizer.fit_transform(str_train_data)"
   ]
  },
  {
   "cell_type": "code",
   "execution_count": 14,
   "metadata": {},
   "outputs": [],
   "source": [
    "test_features = vectorizer.transform(str_test_data)"
   ]
  },
  {
   "cell_type": "code",
   "execution_count": 15,
   "metadata": {},
   "outputs": [],
   "source": [
    "from sklearn.linear_model import PassiveAggressiveClassifier\n",
    "# https://scikit-learn.org/stable/modules/generated/sklearn.linear_model.PassiveAggressiveClassifier.html\n",
    "# http://jmlr.csail.mit.edu/papers/volume7/crammer06a/crammer06a.pdf"
   ]
  },
  {
   "cell_type": "code",
   "execution_count": 16,
   "metadata": {},
   "outputs": [
    {
     "name": "stderr",
     "output_type": "stream",
     "text": [
      "/Users/7of9/anaconda3/envs/ml/lib/python3.6/site-packages/sklearn/linear_model/stochastic_gradient.py:144: FutureWarning: max_iter and tol parameters have been added in PassiveAggressiveClassifier in 0.19. If both are left unset, they default to max_iter=5 and tol=None. If tol is not None, max_iter defaults to max_iter=1000. From 0.21, default max_iter will be 1000, and default tol will be 1e-3.\n",
      "  FutureWarning)\n"
     ]
    }
   ],
   "source": [
    "pac = PassiveAggressiveClassifier().fit(train_features, train_target)"
   ]
  },
  {
   "cell_type": "code",
   "execution_count": 17,
   "metadata": {},
   "outputs": [
    {
     "data": {
      "text/plain": [
       "0.9491758241758241"
      ]
     },
     "execution_count": 17,
     "metadata": {},
     "output_type": "execute_result"
    }
   ],
   "source": [
    "pac.score(test_features, test_target)"
   ]
  },
  {
   "cell_type": "code",
   "execution_count": 19,
   "metadata": {},
   "outputs": [
    {
     "name": "stdout",
     "output_type": "stream",
     "text": [
      "0.9378434065934066\n"
     ]
    }
   ],
   "source": [
    "from sklearn.linear_model import LogisticRegression\n",
    "\n",
    "logistic = LogisticRegression(C=100000000.0, class_weight=None, dual=False,\n",
    "             fit_intercept=True, intercept_scaling=1, max_iter=100,\n",
    "             multi_class='multinomial', n_jobs=1, penalty='l2',\n",
    "             random_state=None, solver='lbfgs', tol=0.0001, verbose=0,\n",
    "             warm_start=False)\n",
    "logistic.fit(train_features, train_target)\n",
    "print(logistic.score(test_features, test_target))"
   ]
  },
  {
   "cell_type": "code",
   "execution_count": 30,
   "metadata": {},
   "outputs": [
    {
     "name": "stderr",
     "output_type": "stream",
     "text": [
      "/Users/7of9/anaconda3/envs/ml/lib/python3.6/site-packages/sklearn/linear_model/stochastic_gradient.py:144: FutureWarning: max_iter and tol parameters have been added in SGDClassifier in 0.19. If both are left unset, they default to max_iter=5 and tol=None. If tol is not None, max_iter defaults to max_iter=1000. From 0.21, default max_iter will be 1000, and default tol will be 1e-3.\n",
      "  FutureWarning)\n"
     ]
    },
    {
     "name": "stdout",
     "output_type": "stream",
     "text": [
      "0.9271978021978022\n"
     ]
    }
   ],
   "source": [
    "from sklearn.linear_model import SGDClassifier\n",
    "\n",
    "sdgc = SGDClassifier(loss='log', penalty='elasticnet', l1_ratio=0.2)\n",
    "sdgc.fit(train_features, train_target)\n",
    "print(sdgc.score(test_features, test_target))"
   ]
  },
  {
   "cell_type": "code",
   "execution_count": 20,
   "metadata": {},
   "outputs": [
    {
     "name": "stderr",
     "output_type": "stream",
     "text": [
      "/Users/7of9/anaconda3/envs/ml/lib/python3.6/site-packages/sklearn/linear_model/stochastic_gradient.py:144: FutureWarning: max_iter and tol parameters have been added in PassiveAggressiveClassifier in 0.19. If both are left unset, they default to max_iter=5 and tol=None. If tol is not None, max_iter defaults to max_iter=1000. From 0.21, default max_iter will be 1000, and default tol will be 1e-3.\n",
      "  FutureWarning)\n"
     ]
    },
    {
     "data": {
      "text/plain": [
       "0.9488324175824175"
      ]
     },
     "execution_count": 20,
     "metadata": {},
     "output_type": "execute_result"
    }
   ],
   "source": [
    "pac2 = PassiveAggressiveClassifier(fit_intercept=False).fit(train_features, train_target)\n",
    "pac2.score(test_features, test_target)"
   ]
  },
  {
   "cell_type": "code",
   "execution_count": 21,
   "metadata": {
    "scrolled": true
   },
   "outputs": [
    {
     "name": "stderr",
     "output_type": "stream",
     "text": [
      "/Users/7of9/anaconda3/envs/ml/lib/python3.6/site-packages/sklearn/linear_model/stochastic_gradient.py:144: FutureWarning: max_iter and tol parameters have been added in PassiveAggressiveClassifier in 0.19. If both are left unset, they default to max_iter=5 and tol=None. If tol is not None, max_iter defaults to max_iter=1000. From 0.21, default max_iter will be 1000, and default tol will be 1e-3.\n",
      "  FutureWarning)\n"
     ]
    },
    {
     "data": {
      "text/plain": [
       "0.946771978021978"
      ]
     },
     "execution_count": 21,
     "metadata": {},
     "output_type": "execute_result"
    }
   ],
   "source": [
    "from sklearn.model_selection import GridSearchCV\n",
    "\n",
    "grid_params = dict(C=np.arange(0.5, 1.5, 0.5))\n",
    "gs_pac = PassiveAggressiveClassifier()\n",
    "gs = GridSearchCV(estimator=gs_pac,\n",
    "                  param_grid=grid_params,\n",
    "                  cv=10)\n",
    "\n",
    "gs.fit(train_features, train_target)\n",
    "gs.score(test_features, test_target)"
   ]
  },
  {
   "cell_type": "code",
   "execution_count": 22,
   "metadata": {},
   "outputs": [
    {
     "data": {
      "text/plain": [
       "{'C': 1.0}"
      ]
     },
     "execution_count": 22,
     "metadata": {},
     "output_type": "execute_result"
    }
   ],
   "source": [
    "gs.best_params_"
   ]
  },
  {
   "cell_type": "code",
   "execution_count": 25,
   "metadata": {},
   "outputs": [
    {
     "name": "stderr",
     "output_type": "stream",
     "text": [
      "/Users/7of9/anaconda3/envs/ml/lib/python3.6/site-packages/sklearn/linear_model/stochastic_gradient.py:144: FutureWarning: max_iter and tol parameters have been added in PassiveAggressiveClassifier in 0.19. If both are left unset, they default to max_iter=5 and tol=None. If tol is not None, max_iter defaults to max_iter=1000. From 0.21, default max_iter will be 1000, and default tol will be 1e-3.\n",
      "  FutureWarning)\n"
     ]
    },
    {
     "name": "stdout",
     "output_type": "stream",
     "text": [
      "0.9478021978021978\n",
      "{'C': 0.9}\n"
     ]
    }
   ],
   "source": [
    "grid_params = dict(C=np.arange(0.9, 1.1, 0.5))\n",
    "gs_pac = PassiveAggressiveClassifier()\n",
    "gs = GridSearchCV(estimator=gs_pac,\n",
    "                  param_grid=grid_params,\n",
    "                  cv=5)\n",
    "\n",
    "gs.fit(train_features, train_target)\n",
    "print(gs.score(test_features, test_target))\n",
    "print(gs.best_params_)"
   ]
  },
  {
   "cell_type": "code",
   "execution_count": 26,
   "metadata": {},
   "outputs": [
    {
     "data": {
      "text/plain": [
       "0.9478021978021978"
      ]
     },
     "execution_count": 26,
     "metadata": {},
     "output_type": "execute_result"
    }
   ],
   "source": [
    "gs.score(test_features, test_target)"
   ]
  },
  {
   "cell_type": "code",
   "execution_count": 27,
   "metadata": {},
   "outputs": [
    {
     "name": "stderr",
     "output_type": "stream",
     "text": [
      "/Users/7of9/anaconda3/envs/ml/lib/python3.6/site-packages/sklearn/linear_model/stochastic_gradient.py:144: FutureWarning: max_iter and tol parameters have been added in PassiveAggressiveClassifier in 0.19. If both are left unset, they default to max_iter=5 and tol=None. If tol is not None, max_iter defaults to max_iter=1000. From 0.21, default max_iter will be 1000, and default tol will be 1e-3.\n",
      "  FutureWarning)\n"
     ]
    },
    {
     "name": "stdout",
     "output_type": "stream",
     "text": [
      "0.9481456043956044\n",
      "{'C': 0.9700000000000001}\n"
     ]
    }
   ],
   "source": [
    "grid_params = dict(C=np.arange(0.9, 1.1, 0.01))\n",
    "gs_pac = PassiveAggressiveClassifier(fit_intercept=False)\n",
    "gs = GridSearchCV(estimator=gs_pac,\n",
    "                  param_grid=grid_params,\n",
    "                  cv=5)\n",
    "\n",
    "gs.fit(train_features, train_target)\n",
    "print(gs.score(test_features, test_target))\n",
    "print(gs.best_params_)"
   ]
  },
  {
   "cell_type": "code",
   "execution_count": 29,
   "metadata": {},
   "outputs": [
    {
     "data": {
      "text/plain": [
       "0.9491758241758241"
      ]
     },
     "execution_count": 29,
     "metadata": {},
     "output_type": "execute_result"
    }
   ],
   "source": [
    "# Best Model thus far for only hard and easy reviewers \n",
    "pac_best = PassiveAggressiveClassifier(C=0.97).fit(train_features, train_target)\n",
    "pac_best.score(test_features, test_target)"
   ]
  }
 ],
 "metadata": {
  "kernelspec": {
   "display_name": "Python 3",
   "language": "python",
   "name": "python3"
  },
  "language_info": {
   "codemirror_mode": {
    "name": "ipython",
    "version": 3
   },
   "file_extension": ".py",
   "mimetype": "text/x-python",
   "name": "python",
   "nbconvert_exporter": "python",
   "pygments_lexer": "ipython3",
   "version": "3.6.6"
  }
 },
 "nbformat": 4,
 "nbformat_minor": 2
}
